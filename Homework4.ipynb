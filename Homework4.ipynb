{
 "cells": [
  {
   "cell_type": "code",
   "execution_count": 1,
   "metadata": {
    "collapsed": false
   },
   "outputs": [],
   "source": [
    "\"\"\"\n",
    "Ryan Shuhart\n",
    "MSDS 7330 - 402\n",
    "November 2, 2015\n",
    "\n",
    "resources:\n",
    "http://pandas.pydata.org/pandas-docs/version/0.16.2/io.html#io-read-csv-table\n",
    "http://stackoverflow.com/questions/30408450/python-long-string-on-multiple-line\n",
    "\n",
    "Q1\n",
    "https://www.youtube.com/watch?v=CNQet_kL8z4\n",
    "\n",
    "Q2\n",
    "http://learnpythonthehardway.org/book/ex39.html\n",
    "\"\"\"\n",
    "import pandas as pd\n",
    "from collections import defaultdict\n",
    "#import text list as a pandas data frame.  Using pandas because of my familiarity with it.\n",
    "scrabble = pd.read_csv(r\"C:\\Users\\ryan.shuhart\\Google Drive\\SMU\\Class Work\\Fall 2015\"\\\n",
    "                    \"\\File Organization and Database Management\\Homeworks\\HW4\\ospd.txt\",\n",
    "                    header=None, names=['Word'])"
   ]
  },
  {
   "cell_type": "code",
   "execution_count": 2,
   "metadata": {
    "collapsed": false
   },
   "outputs": [
    {
     "data": {
      "text/html": [
       "<div>\n",
       "<table border=\"1\" class=\"dataframe\">\n",
       "  <thead>\n",
       "    <tr style=\"text-align: right;\">\n",
       "      <th></th>\n",
       "      <th>Word</th>\n",
       "    </tr>\n",
       "  </thead>\n",
       "  <tbody>\n",
       "    <tr>\n",
       "      <th>0</th>\n",
       "      <td>aa</td>\n",
       "    </tr>\n",
       "    <tr>\n",
       "      <th>1</th>\n",
       "      <td>aah</td>\n",
       "    </tr>\n",
       "    <tr>\n",
       "      <th>2</th>\n",
       "      <td>aahed</td>\n",
       "    </tr>\n",
       "    <tr>\n",
       "      <th>3</th>\n",
       "      <td>aahing</td>\n",
       "    </tr>\n",
       "    <tr>\n",
       "      <th>4</th>\n",
       "      <td>aahs</td>\n",
       "    </tr>\n",
       "  </tbody>\n",
       "</table>\n",
       "</div>"
      ],
      "text/plain": [
       "     Word\n",
       "0      aa\n",
       "1     aah\n",
       "2   aahed\n",
       "3  aahing\n",
       "4    aahs"
      ]
     },
     "execution_count": 2,
     "metadata": {},
     "output_type": "execute_result"
    }
   ],
   "source": [
    "scrabble.head()"
   ]
  },
  {
   "cell_type": "code",
   "execution_count": 4,
   "metadata": {
    "collapsed": false
   },
   "outputs": [
    {
     "data": {
      "text/plain": [
       "[['retread', 'treader'],\n",
       " ['exiles', 'ilexes'],\n",
       " ['pretrain', 'terrapin'],\n",
       " ['parsers', 'raspers', 'sparers', 'sparser'],\n",
       " ['crasis', 'crissa']]"
      ]
     },
     "execution_count": 4,
     "metadata": {},
     "output_type": "execute_result"
    }
   ],
   "source": [
    "#Question #1\n",
    "\n",
    "#Define function to \n",
    "def anagrams(words):\n",
    "    table = defaultdict(list)\n",
    "    \n",
    "    for w in words:\n",
    "        table[''.join(sorted(w.lower()))].append(w)\n",
    "        \n",
    "    anagrams = [v for k, v in table.items() if len(v) > 1]\n",
    "    longest = max([len(v) for k, v in table.items()])\n",
    "    longest_anagram = [v for k, v in table.items() if len(v) == longest]\n",
    "    return anagrams, longest_anagram\n",
    "    \n",
    "anagram_table, longest = anagrams(scrabble.Word)\n",
    "anagram_table[0:5]"
   ]
  },
  {
   "cell_type": "code",
   "execution_count": 5,
   "metadata": {
    "collapsed": false
   },
   "outputs": [
    {
     "name": "stdout",
     "output_type": "stream",
     "text": [
      "There are 9796 anagrams in the scabble dictionary.\n"
     ]
    }
   ],
   "source": [
    "print(\"There are \"+str(len(anagram_table))+\" anagrams in the scabble dictionary.\")"
   ]
  },
  {
   "cell_type": "code",
   "execution_count": 6,
   "metadata": {
    "collapsed": false
   },
   "outputs": [
    {
     "data": {
      "text/plain": [
       "[['apers',\n",
       "  'apres',\n",
       "  'asper',\n",
       "  'pares',\n",
       "  'parse',\n",
       "  'pears',\n",
       "  'prase',\n",
       "  'presa',\n",
       "  'rapes',\n",
       "  'reaps',\n",
       "  'spare',\n",
       "  'spear']]"
      ]
     },
     "execution_count": 6,
     "metadata": {},
     "output_type": "execute_result"
    }
   ],
   "source": [
    "longest"
   ]
  },
  {
   "cell_type": "code",
   "execution_count": null,
   "metadata": {
    "collapsed": false
   },
   "outputs": [],
   "source": []
  },
  {
   "cell_type": "code",
   "execution_count": null,
   "metadata": {
    "collapsed": true
   },
   "outputs": [],
   "source": []
  }
 ],
 "metadata": {
  "kernelspec": {
   "display_name": "Python 3",
   "language": "python",
   "name": "python3"
  },
  "language_info": {
   "codemirror_mode": {
    "name": "ipython",
    "version": 3
   },
   "file_extension": ".py",
   "mimetype": "text/x-python",
   "name": "python",
   "nbconvert_exporter": "python",
   "pygments_lexer": "ipython3",
   "version": "3.4.3"
  }
 },
 "nbformat": 4,
 "nbformat_minor": 0
}
