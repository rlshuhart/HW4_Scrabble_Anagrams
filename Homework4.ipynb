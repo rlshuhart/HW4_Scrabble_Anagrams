{
 "cells": [
  {
   "cell_type": "code",
   "execution_count": 11,
   "metadata": {
    "collapsed": false
   },
   "outputs": [],
   "source": [
    "\"\"\"\n",
    "Ryan Shuhart\n",
    "MSDS 7330 - 402\n",
    "November 2, 2015\n",
    "\n",
    "resources:\n",
    "http://pandas.pydata.org/pandas-docs/version/0.16.2/io.html#io-read-csv-table\n",
    "http://stackoverflow.com/questions/30408450/python-long-string-on-multiple-line\n",
    "\n",
    "Q1\n",
    "https://www.youtube.com/watch?v=CNQet_kL8z4\n",
    "\n",
    "Q2\n",
    "http://learnpythonthehardway.org/book/ex39.html\n",
    "\"\"\"\n",
    "import pandas as pd\n",
    "from collections import defaultdict\n",
    "#import text list as a pandas data frame.  Using pandas because of my familiarity with it.\n",
    "scrabble = pd.read_csv(r\"C:\\Users\\ryan.shuhart\\Google Drive\\SMU\\Class Work\\Fall 2015\"\\\n",
    "                    \"\\File Organization and Database Management\\Homeworks\\HW4\\ospd.txt\",\n",
    "                    header=None, names=['Word'])"
   ]
  },
  {
   "cell_type": "code",
   "execution_count": 12,
   "metadata": {
    "collapsed": false
   },
   "outputs": [
    {
     "data": {
      "text/html": [
       "<div>\n",
       "<table border=\"1\" class=\"dataframe\">\n",
       "  <thead>\n",
       "    <tr style=\"text-align: right;\">\n",
       "      <th></th>\n",
       "      <th>Word</th>\n",
       "    </tr>\n",
       "  </thead>\n",
       "  <tbody>\n",
       "    <tr>\n",
       "      <th>0</th>\n",
       "      <td>aa</td>\n",
       "    </tr>\n",
       "    <tr>\n",
       "      <th>1</th>\n",
       "      <td>aah</td>\n",
       "    </tr>\n",
       "    <tr>\n",
       "      <th>2</th>\n",
       "      <td>aahed</td>\n",
       "    </tr>\n",
       "    <tr>\n",
       "      <th>3</th>\n",
       "      <td>aahing</td>\n",
       "    </tr>\n",
       "    <tr>\n",
       "      <th>4</th>\n",
       "      <td>aahs</td>\n",
       "    </tr>\n",
       "  </tbody>\n",
       "</table>\n",
       "</div>"
      ],
      "text/plain": [
       "     Word\n",
       "0      aa\n",
       "1     aah\n",
       "2   aahed\n",
       "3  aahing\n",
       "4    aahs"
      ]
     },
     "execution_count": 12,
     "metadata": {},
     "output_type": "execute_result"
    }
   ],
   "source": [
    "scrabble.head()"
   ]
  },
  {
   "cell_type": "code",
   "execution_count": 36,
   "metadata": {
    "collapsed": false
   },
   "outputs": [
    {
     "data": {
      "text/plain": [
       "[['coreless', 'sclerose'],\n",
       " ['izars', 'sizar'],\n",
       " ['eulogies', 'eulogise'],\n",
       " ['iolites', 'oiliest'],\n",
       " ['ahem', 'haem', 'hame']]"
      ]
     },
     "execution_count": 36,
     "metadata": {},
     "output_type": "execute_result"
    }
   ],
   "source": [
    "#Question #1\n",
    "\n",
    "#Define function to \n",
    "def anagrams(words):\n",
    "    table = defaultdict(list)\n",
    "    \n",
    "    for w in words:\n",
    "        table[''.join(sorted(w.lower()))].append(w)\n",
    "        \n",
    "    anagrams = [v for k, v in table.items() if len(v) > 1]\n",
    "    longest = max([len(v) for k, v in table.items()])\n",
    "    longest_anagram = [v for k, v in table.items() if len(v) == longest]\n",
    "    return anagrams, longest_anagram\n",
    "    \n",
    "anagram_table, longest = anagrams(words.Word)\n",
    "anagram_table[0:5]"
   ]
  },
  {
   "cell_type": "code",
   "execution_count": 21,
   "metadata": {
    "collapsed": false
   },
   "outputs": [
    {
     "name": "stdout",
     "output_type": "stream",
     "text": [
      "There are 9796 anagrams in the scabble dictionary.\n"
     ]
    }
   ],
   "source": [
    "print(\"There are \"+str(len(anagram_table))+\" anagrams in the scabble dictionary.\")"
   ]
  },
  {
   "cell_type": "code",
   "execution_count": 26,
   "metadata": {
    "collapsed": false
   },
   "outputs": [
    {
     "ename": "NameError",
     "evalue": "name 'table' is not defined",
     "output_type": "error",
     "traceback": [
      "\u001b[1;31m---------------------------------------------------------------------------\u001b[0m",
      "\u001b[1;31mNameError\u001b[0m                                 Traceback (most recent call last)",
      "\u001b[1;32m<ipython-input-26-f2ca9559bc04>\u001b[0m in \u001b[0;36m<module>\u001b[1;34m()\u001b[0m\n\u001b[1;32m----> 1\u001b[1;33m \u001b[0mlongest\u001b[0m \u001b[1;33m=\u001b[0m \u001b[1;33m[\u001b[0m\u001b[0mlen\u001b[0m\u001b[1;33m(\u001b[0m\u001b[0mv\u001b[0m\u001b[1;33m)\u001b[0m \u001b[1;32mfor\u001b[0m \u001b[0mk\u001b[0m\u001b[1;33m,\u001b[0m \u001b[0mv\u001b[0m \u001b[1;32min\u001b[0m \u001b[0mtable\u001b[0m\u001b[1;33m.\u001b[0m\u001b[0mitems\u001b[0m\u001b[1;33m(\u001b[0m\u001b[1;33m)\u001b[0m\u001b[1;33m]\u001b[0m\u001b[1;33m\u001b[0m\u001b[0m\n\u001b[0m",
      "\u001b[1;31mNameError\u001b[0m: name 'table' is not defined"
     ]
    }
   ],
   "source": []
  },
  {
   "cell_type": "code",
   "execution_count": 37,
   "metadata": {
    "collapsed": false
   },
   "outputs": [
    {
     "data": {
      "text/plain": [
       "[['apers',\n",
       "  'apres',\n",
       "  'asper',\n",
       "  'pares',\n",
       "  'parse',\n",
       "  'pears',\n",
       "  'prase',\n",
       "  'presa',\n",
       "  'rapes',\n",
       "  'reaps',\n",
       "  'spare',\n",
       "  'spear']]"
      ]
     },
     "execution_count": 37,
     "metadata": {},
     "output_type": "execute_result"
    }
   ],
   "source": [
    "longest"
   ]
  },
  {
   "cell_type": "code",
   "execution_count": null,
   "metadata": {
    "collapsed": true
   },
   "outputs": [],
   "source": []
  }
 ],
 "metadata": {
  "kernelspec": {
   "display_name": "Python 3",
   "language": "python",
   "name": "python3"
  },
  "language_info": {
   "codemirror_mode": {
    "name": "ipython",
    "version": 3
   },
   "file_extension": ".py",
   "mimetype": "text/x-python",
   "name": "python",
   "nbconvert_exporter": "python",
   "pygments_lexer": "ipython3",
   "version": "3.4.3"
  }
 },
 "nbformat": 4,
 "nbformat_minor": 0
}
