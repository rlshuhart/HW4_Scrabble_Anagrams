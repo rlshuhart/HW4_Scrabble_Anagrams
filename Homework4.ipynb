{
 "cells": [
  {
   "cell_type": "code",
   "execution_count": 2,
   "metadata": {
    "collapsed": false
   },
   "outputs": [],
   "source": [
    "\"\"\"\n",
    "Ryan Shuhart\n",
    "MSDS 7330 - 402\n",
    "November 2, 2015\n",
    "\n",
    "resources:\n",
    "http://pandas.pydata.org/pandas-docs/version/0.16.2/io.html#io-read-csv-table\n",
    "http://stackoverflow.com/questions/30408450/python-long-string-on-multiple-line\n",
    "\n",
    "Q1\n",
    "https://www.youtube.com/watch?v=CNQet_kL8z4\n",
    "\n",
    "Q2\n",
    "http://learnpythonthehardway.org/book/ex39.html\n",
    "\n",
    "Q3\n",
    "http://stackoverflow.com/questions/13784192/creating-an-empty-pandas-dataframe-then-filling-it\n",
    "http://pandas.pydata.org/pandas-docs/stable/visualization.html#histograms\n",
    "http://stackoverflow.com/questions/19410042/how-to-make-ipython-notebook-matplotlib-plot-inline\n",
    "\n",
    "Q4\n",
    "http://stackoverflow.com/questions/30970342/remove-punctuation-from-a-list\n",
    "https://docs.python.org/3/tutorial/controlflow.html\n",
    "\"\"\"\n",
    "import pandas as pd\n",
    "from collections import defaultdict\n",
    "\n",
    "\n",
    "#import text list as a pandas data frame.  Using pandas because of my familiarity with it.\n",
    "scrabble = pd.read_csv(r\"C:\\Users\\ryan.shuhart\\Google Drive\\SMU\\Class Work\\Fall 2015\"\\\n",
    "                    \"\\File Organization and Database Management\\Homeworks\\HW4\\ospd.txt\",\n",
    "                    header=None, names=['Word'])"
   ]
  },
  {
   "cell_type": "code",
   "execution_count": 3,
   "metadata": {
    "collapsed": false
   },
   "outputs": [
    {
     "data": {
      "text/html": [
       "<div>\n",
       "<table border=\"1\" class=\"dataframe\">\n",
       "  <thead>\n",
       "    <tr style=\"text-align: right;\">\n",
       "      <th></th>\n",
       "      <th>Word</th>\n",
       "    </tr>\n",
       "  </thead>\n",
       "  <tbody>\n",
       "    <tr>\n",
       "      <th>0</th>\n",
       "      <td>aa</td>\n",
       "    </tr>\n",
       "    <tr>\n",
       "      <th>1</th>\n",
       "      <td>aah</td>\n",
       "    </tr>\n",
       "    <tr>\n",
       "      <th>2</th>\n",
       "      <td>aahed</td>\n",
       "    </tr>\n",
       "    <tr>\n",
       "      <th>3</th>\n",
       "      <td>aahing</td>\n",
       "    </tr>\n",
       "    <tr>\n",
       "      <th>4</th>\n",
       "      <td>aahs</td>\n",
       "    </tr>\n",
       "  </tbody>\n",
       "</table>\n",
       "</div>"
      ],
      "text/plain": [
       "     Word\n",
       "0      aa\n",
       "1     aah\n",
       "2   aahed\n",
       "3  aahing\n",
       "4    aahs"
      ]
     },
     "execution_count": 3,
     "metadata": {},
     "output_type": "execute_result"
    }
   ],
   "source": [
    "scrabble.head()"
   ]
  },
  {
   "cell_type": "code",
   "execution_count": 128,
   "metadata": {
    "collapsed": false
   },
   "outputs": [],
   "source": [
    "#Questions #1-3\n",
    "\n",
    "#Define function to \n",
    "def anagrams(words):\n",
    "    table = defaultdict(list)\n",
    "    \n",
    "    for w in words:\n",
    "        table[''.join(sorted(w.lower()))].append(w)\n",
    "    \n",
    "    anagrams = [v for k, v in table.items() if len(v) > 1]\n",
    "    anagram_lengths = [len(v) for k, v in table.items() if len(v) > 1]\n",
    "    anagram_keys = [k for k, v in table.items() if len(v) > 1]\n",
    "    longest_anagram = [v for k, v in table.items() if len(v) == max(anagram_lengths)]\n",
    "    longest_anagram_key = [k for k, v in table.items() if len(v) == max(anagram_lengths)]\n",
    "    return anagrams, anagram_lengths, anagram_keys, longest_anagram, longest_anagram_key\n",
    "    \n",
    "anagrams, anagram_lengths, anagram_keys, longest_anagram, longest_anagram_key = anagrams(scrabble.Word)\n"
   ]
  },
  {
   "cell_type": "code",
   "execution_count": 129,
   "metadata": {
    "collapsed": false
   },
   "outputs": [
    {
     "name": "stdout",
     "output_type": "stream",
     "text": [
      "Question 1:  How many unique anagrams are in the scrabble word list?\n",
      "\n",
      "There are 9796 anagrams in the scabble dictionary.\n"
     ]
    }
   ],
   "source": [
    "print(\"Question 1:  How many unique anagrams are in the scrabble word list?\\n\")\n",
    "print(\"There are \"+str(len(anagram_table))+\" anagrams in the scabble dictionary.\")"
   ]
  },
  {
   "cell_type": "code",
   "execution_count": 130,
   "metadata": {
    "collapsed": false
   },
   "outputs": [
    {
     "name": "stdout",
     "output_type": "stream",
     "text": [
      "Question 2: What is the anagram with the largest number of words in the word list? \n",
      " How many words are in this anagram?\n",
      "The longest anagram is: ['apers', 'apres', 'asper', 'pares', 'parse', 'pears', 'prase', 'presa', 'rapes', 'reaps', 'spare', 'spear']\n",
      "12\n"
     ]
    }
   ],
   "source": [
    "print(\"Question 2: What is the anagram with the largest number of words in the word list? \\n \\\n",
    "How many words are in this anagram?\")\n",
    "print(\"The longest anagram is: \" + str(longest_anagram[0]))\n",
    "print(len(longest_anagram[0]))"
   ]
  },
  {
   "cell_type": "code",
   "execution_count": 131,
   "metadata": {
    "collapsed": false
   },
   "outputs": [
    {
     "name": "stdout",
     "output_type": "stream",
     "text": [
      "Question 3: Use matplotlib (or Excel) to visualize a histogram of the size of the anagrams.\n",
      "       Anagram Lengths\n",
      "count      9796.000000\n",
      "mean          2.383830\n",
      "std           0.816171\n",
      "min           2.000000\n",
      "25%           2.000000\n",
      "50%           2.000000\n",
      "75%           3.000000\n",
      "max          12.000000\n"
     ]
    },
    {
     "data": {
      "image/png": "[encoded data removed]",
      "text/plain": [
       "<matplotlib.figure.Figure at 0xd2a1588>"
      ]
     },
     "metadata": {},
     "output_type": "display_data"
    }
   ],
   "source": [
    "print(\"Question 3: Use matplotlib (or Excel) to visualize a histogram of the size of the anagrams.\")\n",
    "import matplotlib.pyplot as plt\n",
    "%matplotlib inline\n",
    "df_anagram_lengths = pd.DataFrame(anagram_lengths, columns=['Anagram Lengths'])\n",
    "\n",
    "df_anagram_lengths.hist()\n",
    "print(df_anagram_lengths.describe())"
   ]
  },
  {
   "cell_type": "code",
   "execution_count": 134,
   "metadata": {
    "collapsed": false
   },
   "outputs": [
    {
     "data": {
      "text/plain": [
       "9796"
      ]
     },
     "execution_count": 134,
     "metadata": {},
     "output_type": "execute_result"
    }
   ],
   "source": [
    "anagrams_no_punc = []\n",
    "for i in range(0,len(anagrams)):\n",
    "    anagrams_no_punc.append(str(anagrams[i]).translate(str.maketrans('','', \"[]'' \")))\n",
    "    \n",
    "len(anagrams_no_punc)\n",
    "#print(str(anagrams[0]).translate(str.maketrans('','', \"[]'' \")))"
   ]
  },
  {
   "cell_type": "code",
   "execution_count": 135,
   "metadata": {
    "collapsed": false
   },
   "outputs": [
    {
     "data": {
      "text/html": [
       "<div>\n",
       "<table border=\"1\" class=\"dataframe\">\n",
       "  <thead>\n",
       "    <tr style=\"text-align: right;\">\n",
       "      <th></th>\n",
       "      <th>Anagram</th>\n",
       "      <th>Number_of_Anagrams</th>\n",
       "      <th>Anagram_Words</th>\n",
       "    </tr>\n",
       "  </thead>\n",
       "  <tbody>\n",
       "    <tr>\n",
       "      <th>0</th>\n",
       "      <td>eelpr</td>\n",
       "      <td>2</td>\n",
       "      <td>leper,repel</td>\n",
       "    </tr>\n",
       "    <tr>\n",
       "      <th>1</th>\n",
       "      <td>eoorrst</td>\n",
       "      <td>3</td>\n",
       "      <td>rooster,rooters,toreros</td>\n",
       "    </tr>\n",
       "    <tr>\n",
       "      <th>2</th>\n",
       "      <td>eillrsw</td>\n",
       "      <td>2</td>\n",
       "      <td>swiller,willers</td>\n",
       "    </tr>\n",
       "    <tr>\n",
       "      <th>3</th>\n",
       "      <td>belu</td>\n",
       "      <td>2</td>\n",
       "      <td>blue,lube</td>\n",
       "    </tr>\n",
       "    <tr>\n",
       "      <th>4</th>\n",
       "      <td>bdeeors</td>\n",
       "      <td>2</td>\n",
       "      <td>bedsore,sobered</td>\n",
       "    </tr>\n",
       "  </tbody>\n",
       "</table>\n",
       "</div>"
      ],
      "text/plain": [
       "   Anagram  Number_of_Anagrams            Anagram_Words\n",
       "0    eelpr                   2              leper,repel\n",
       "1  eoorrst                   3  rooster,rooters,toreros\n",
       "2  eillrsw                   2          swiller,willers\n",
       "3     belu                   2                blue,lube\n",
       "4  bdeeors                   2          bedsore,sobered"
      ]
     },
     "execution_count": 135,
     "metadata": {},
     "output_type": "execute_result"
    }
   ],
   "source": [
    "#Question 4\n",
    "df=pd.DataFrame()\n",
    "df = pd.DataFrame(anagram_keys, columns=['Anagram'])\n",
    "df['Number_of_Anagrams'] = pd.DataFrame(anagram_lengths)\n",
    "df['Anagram_Words'] = pd.DataFrame(anagrams_no_punc)\n",
    "df.head()"
   ]
  },
  {
   "cell_type": "code",
   "execution_count": 136,
   "metadata": {
    "collapsed": false
   },
   "outputs": [
    {
     "data": {
      "text/plain": [
       "[['leper', 'repel'],\n",
       " ['rooster', 'rooters', 'toreros'],\n",
       " ['swiller', 'willers'],\n",
       " ['blue', 'lube'],\n",
       " ['bedsore', 'sobered'],\n",
       " ['birder', 'birred'],\n",
       " ['gorsiest', 'strigose'],\n",
       " ['filet', 'flite'],\n",
       " ['carter', 'crater', 'tracer'],\n",
       " ['stumpers', 'sumpters']]"
      ]
     },
     "execution_count": 136,
     "metadata": {},
     "output_type": "execute_result"
    }
   ],
   "source": [
    "anagrams[0:10]"
   ]
  }
 ],
 "metadata": {
  "kernelspec": {
   "display_name": "Python 3",
   "language": "python",
   "name": "python3"
  },
  "language_info": {
   "codemirror_mode": {
    "name": "ipython",
    "version": 3
   },
   "file_extension": ".py",
   "mimetype": "text/x-python",
   "name": "python",
   "nbconvert_exporter": "python",
   "pygments_lexer": "ipython3",
   "version": "3.4.3"
  }
 },
 "nbformat": 4,
 "nbformat_minor": 0
}
